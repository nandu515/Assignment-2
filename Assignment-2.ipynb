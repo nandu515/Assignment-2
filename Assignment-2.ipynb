{
 "cells": [
  {
   "cell_type": "code",
   "execution_count": null,
   "id": "9c3930c7-c0d4-49f8-9b52-85a8495cb306",
   "metadata": {},
   "outputs": [],
   "source": [
    "#Q1. How do you comment code in Python? What are the different types of comments?\n",
    "Ans: By using # and ''' we can comment in python. There are two types of comments in python they are :\n",
    "1.single line comment : # this is single line commment.\n",
    "2. multi line comment : ''' This is use \n",
    "                            multi-line comment'''."
   ]
  },
  {
   "cell_type": "code",
   "execution_count": null,
   "id": "483f80b8-9ed1-419d-89a4-b31a0836994f",
   "metadata": {},
   "outputs": [],
   "source": [
    "Q2. What are variables in Python? How do you declare and assign values to variables?\n",
    "Ans: Any thing we can use a vriable but it should not start with special characters and spaces and numbers.\n",
    "    we use = Assign operator to assign valsues to variable and like A=10 this we can declare the variable. "
   ]
  },
  {
   "cell_type": "code",
   "execution_count": 19,
   "id": "eda23d66-7f3d-4690-bf77-1d3e80c4adfc",
   "metadata": {},
   "outputs": [
    {
     "name": "stdout",
     "output_type": "stream",
     "text": [
      "10\n",
      "<class 'str'>\n",
      "<class 'int'>\n"
     ]
    }
   ],
   "source": [
    "#Q3. How do you convert one data type to another in Python?\n",
    "#Ans:\n",
    "a=10\n",
    "string=str(a)\n",
    "print(string)\n",
    "print(type(string))\n",
    "print(type(a))"
   ]
  },
  {
   "cell_type": "code",
   "execution_count": null,
   "id": "19095313-d1bc-4d5d-be17-116048a0eeba",
   "metadata": {},
   "outputs": [],
   "source": [
    "#Q4. How do you write and execute a Python script from the command line?\n",
    "Ans:To write and execute a Python script from the command line, you can follow these steps:\n",
    "Create a Python file with a .py extension.\n",
    "Execute the file by running python filename.py in the command line."
   ]
  },
  {
   "cell_type": "code",
   "execution_count": 27,
   "id": "ceda436e-549a-4408-a700-f323f4dfdbb2",
   "metadata": {},
   "outputs": [
    {
     "name": "stdout",
     "output_type": "stream",
     "text": [
      "[2, 3]\n",
      "[2, 3]\n"
     ]
    }
   ],
   "source": [
    "#Q5. Given a list my_list = [1, 2, 3, 4, 5], write the code to slice the list and obtain the sub-list [2, 3].\n",
    "my_list = [1, 2, 3, 4, 5]\n",
    "print(my_list[1:3])\n",
    "print(my_list[-4:-2])"
   ]
  },
  {
   "cell_type": "code",
   "execution_count": null,
   "id": "35a3fc6f-05a9-4273-b55a-4c7d3301cc0e",
   "metadata": {},
   "outputs": [],
   "source": [
    "#Q6. What is a complex number in mathematics, and how is it represented in Python?\n",
    "Ans:It is a combination of Real and imaginary parts and it is represented as A=65+6j we have to use j only to represent imaginary part in python."
   ]
  },
  {
   "cell_type": "code",
   "execution_count": 28,
   "id": "fbe4ccef-20a5-493a-9977-17c55fdc0042",
   "metadata": {},
   "outputs": [
    {
     "name": "stdout",
     "output_type": "stream",
     "text": [
      "<class 'int'>\n",
      "25\n"
     ]
    }
   ],
   "source": [
    "#Q7. What is the correct way to declare a variable named age and assign the value 25 to it?\n",
    "age=25 #this way we can declare\n",
    "#and the following statements are to check it is declare and assigned correctly or not.\n",
    "print(type(age))\n",
    "print(age)\n"
   ]
  },
  {
   "cell_type": "code",
   "execution_count": 29,
   "id": "28921be3-ae8a-4ff1-a97e-3ea29d616fa3",
   "metadata": {},
   "outputs": [
    {
     "data": {
      "text/plain": [
       "float"
      ]
     },
     "execution_count": 29,
     "metadata": {},
     "output_type": "execute_result"
    }
   ],
   "source": [
    "#Q8. Declare a variable named price and assign the value 9.99 to it. What data type does this variable belong to?\n",
    "price=9.99 # the data type is float and to conform we can check by using type\n",
    "type(price)"
   ]
  },
  {
   "cell_type": "code",
   "execution_count": 30,
   "id": "471c60de-11fa-4516-a75d-e9cd2c99f5e7",
   "metadata": {},
   "outputs": [
    {
     "name": "stdout",
     "output_type": "stream",
     "text": [
      "nandakishore\n"
     ]
    }
   ],
   "source": [
    "#Q9. Create a variable named name and assign your full name to it as a string. How would you print the value of this variable?\n",
    "name=\"nandakishore\"\n",
    "print(name)"
   ]
  },
  {
   "cell_type": "code",
   "execution_count": 31,
   "id": "c78ab2ae-79ad-4d2d-ad93-690b940b1356",
   "metadata": {},
   "outputs": [
    {
     "data": {
      "text/plain": [
       "'World!'"
      ]
     },
     "execution_count": 31,
     "metadata": {},
     "output_type": "execute_result"
    }
   ],
   "source": [
    "#Q10. Given the string \"Hello, World!\", extract the substring \"World\".\n",
    "st=\"Hello, World!\"\n",
    "st[7::]"
   ]
  },
  {
   "cell_type": "code",
   "execution_count": 36,
   "id": "86927211-4a30-489c-9b45-bb9eb2d76d4f",
   "metadata": {},
   "outputs": [
    {
     "name": "stdin",
     "output_type": "stream",
     "text": [
      " 1\n"
     ]
    },
    {
     "name": "stdout",
     "output_type": "stream",
     "text": [
      "yes currently a student\n"
     ]
    }
   ],
   "source": [
    "#Q11. Create a variable named \"is_student\" and assign it a boolean value indicating whether you are currently a student or not.\n",
    "is_student=bool(input())\n",
    "if is_student == True:\n",
    "    print(\"yes currently a student\")\n",
    "elif is_student == False:\n",
    "        print(\"not a student\")"
   ]
  },
  {
   "cell_type": "code",
   "execution_count": null,
   "id": "f1b1078c-5696-4dd8-9ba5-a4b42f33b370",
   "metadata": {},
   "outputs": [],
   "source": []
  }
 ],
 "metadata": {
  "kernelspec": {
   "display_name": "Python 3 (ipykernel)",
   "language": "python",
   "name": "python3"
  },
  "language_info": {
   "codemirror_mode": {
    "name": "ipython",
    "version": 3
   },
   "file_extension": ".py",
   "mimetype": "text/x-python",
   "name": "python",
   "nbconvert_exporter": "python",
   "pygments_lexer": "ipython3",
   "version": "3.10.8"
  }
 },
 "nbformat": 4,
 "nbformat_minor": 5
}
